{
 "cells": [
  {
   "cell_type": "markdown",
   "metadata": {},
   "source": [
    "# Descripción del proyecto\n",
    "\n",
    "Encontrar los mejores lugares donde abrir 200 pozos nuevos de petróleo.\n",
    "\n",
    "Mediante los siguientes pasos:\n",
    "\n",
    ". Leer los archivos con los parámetros recogidos de pozos petrolíferos en la región seleccionada: calidad de crudo y volumen de reservas.\n",
    "\n",
    ". Crear un modelo para predecir el volumen de reservas en pozos nuevos.\n",
    "\n",
    ". Elegir los pozos petrolíferos que tienen los valores estimados más altos.\n",
    "\n",
    ". Elegir la región con el beneficio total más alto para los pozos petrolíferos seleccionados.\n",
    "\n",
    ". Tienes datos sobre muestras de crudo de tres regiones. Ya se conocen los parámetros de cada pozo petrolero de la región. \n",
    "\n",
    ". Crea un modelo que ayude a elegir la región con el mayor margen de beneficio. Analiza los beneficios y riesgos potenciales utilizando la técnica bootstrapping."
   ]
  },
  {
   "cell_type": "code",
   "execution_count": 44,
   "metadata": {
    "trusted": false
   },
   "outputs": [],
   "source": [
    "# Importar librerias\n",
    "import pandas as pd\n",
    "from sklearn.model_selection import train_test_split\n",
    "from sklearn.linear_model import LinearRegression\n",
    "from sklearn.metrics import mean_squared_error\n",
    "import numpy as np"
   ]
  },
  {
   "cell_type": "code",
   "execution_count": 45,
   "metadata": {
    "trusted": false
   },
   "outputs": [],
   "source": [
    "# Cargar los datos\n",
    "file_paths = {\n",
    "    'region 0': '/datasets/geo_data_0.csv',\n",
    "    'region 1': '/datasets/geo_data_1.csv',\n",
    "    'region 2': '/datasets/geo_data_2.csv'\n",
    "}"
   ]
  },
  {
   "cell_type": "code",
   "execution_count": 46,
   "metadata": {
    "trusted": false
   },
   "outputs": [
    {
     "data": {
      "text/plain": [
       "{'region 0': {'shape': (100000, 5),\n",
       "  'columns': ['id', 'f0', 'f1', 'f2', 'product'],\n",
       "  'missing_values': {'id': 0, 'f0': 0, 'f1': 0, 'f2': 0, 'product': 0},\n",
       "  'preview':       id        f0        f1        f2     product\n",
       "  0  txEyH  0.705745 -0.497823  1.221170  105.280062\n",
       "  1  2acmU  1.334711 -0.340164  4.365080   73.037750\n",
       "  2  409Wp  1.022732  0.151990  1.419926   85.265647\n",
       "  3  iJLyR -0.032172  0.139033  2.978566  168.620776\n",
       "  4  Xdl7t  1.988431  0.155413  4.751769  154.036647},\n",
       " 'region 1': {'shape': (100000, 5),\n",
       "  'columns': ['id', 'f0', 'f1', 'f2', 'product'],\n",
       "  'missing_values': {'id': 0, 'f0': 0, 'f1': 0, 'f2': 0, 'product': 0},\n",
       "  'preview':       id         f0         f1        f2     product\n",
       "  0  kBEdx -15.001348  -8.276000 -0.005876    3.179103\n",
       "  1  62mP7  14.272088  -3.475083  0.999183   26.953261\n",
       "  2  vyE1P   6.263187  -5.948386  5.001160  134.766305\n",
       "  3  KcrkZ -13.081196 -11.506057  4.999415  137.945408\n",
       "  4  AHL4O  12.702195  -8.147433  5.004363  134.766305},\n",
       " 'region 2': {'shape': (100000, 5),\n",
       "  'columns': ['id', 'f0', 'f1', 'f2', 'product'],\n",
       "  'missing_values': {'id': 0, 'f0': 0, 'f1': 0, 'f2': 0, 'product': 0},\n",
       "  'preview':       id        f0        f1        f2     product\n",
       "  0  fwXo0 -1.146987  0.963328 -0.828965   27.758673\n",
       "  1  WJtFt  0.262778  0.269839 -2.530187   56.069697\n",
       "  2  ovLUW  0.194587  0.289035 -5.586433   62.871910\n",
       "  3  q6cA6  2.236060 -0.553760  0.930038  114.572842\n",
       "  4  WPMUX -0.515993  1.716266  5.899011  149.600746}}"
      ]
     },
     "execution_count": 46,
     "metadata": {},
     "output_type": "execute_result"
    }
   ],
   "source": [
    "# Leer los archivos y mostrar información básica\n",
    "data_info = {}\n",
    "for region, path in file_paths.items():\n",
    "    df = pd.read_csv(path)\n",
    "    data_info[region] = {\n",
    "        \"shape\": df.shape,\n",
    "        \"columns\": df.columns.tolist(),\n",
    "        \"missing_values\": df.isnull().sum().to_dict(),\n",
    "        \"preview\": df.head()\n",
    "    }\n",
    "\n",
    "data_info"
   ]
  },
  {
   "cell_type": "code",
   "execution_count": 47,
   "metadata": {
    "trusted": false
   },
   "outputs": [
    {
     "data": {
      "text/plain": [
       "{'region 0': {'region': 'region 0',\n",
       "  'model': LinearRegression(),\n",
       "  'rmse': 37.756600350261685,\n",
       "  'mean_prediction': 92.3987999065777,\n",
       "  'predictions': array([101.90101715,  78.21777385, 115.26690103, ...,  82.54439653,\n",
       "          81.82668931,  93.12106221]),\n",
       "  'actuals': array([122.07334983,  48.73853962, 131.33808824, ...,  91.94521309,\n",
       "         149.29556326,  57.24403851])},\n",
       " 'region 1': {'region': 'region 1',\n",
       "  'model': LinearRegression(),\n",
       "  'rmse': 0.890280100102884,\n",
       "  'mean_prediction': 68.71287803913762,\n",
       "  'predictions': array([  0.84473806,  52.92161194, 135.11038454, ...,  26.70873415,\n",
       "         109.82308735, 135.44878039]),\n",
       "  'actuals': array([  0.        ,  53.90652206, 134.76630516, ...,  26.95326103,\n",
       "         110.99214671, 134.76630516])},\n",
       " 'region 2': {'region': 'region 2',\n",
       "  'model': LinearRegression(),\n",
       "  'rmse': 40.14587231134218,\n",
       "  'mean_prediction': 94.77102387765939,\n",
       "  'predictions': array([ 98.30191642, 101.59246124,  52.4490989 , ...,  64.09839   ,\n",
       "          83.76413542,  86.55864415]),\n",
       "  'actuals': array([117.44130067,  47.84124932,  45.88348343, ...,  52.03981153,\n",
       "         136.96145411, 109.17320622])}}"
      ]
     },
     "execution_count": 47,
     "metadata": {},
     "output_type": "execute_result"
    }
   ],
   "source": [
    "# Entrenar y evaluar el modelo en una región\n",
    "def train_and_evaluate(region_name, df):\n",
    "    # Separar características y objetivo\n",
    "    X = df[['f0', 'f1', 'f2']]\n",
    "    y = df['product']\n",
    "    \n",
    "    # Dividir en conjunto de entrenamiento y validación (75:25)\n",
    "    X_train, X_valid, y_train, y_valid = train_test_split(X, y, test_size=0.25, random_state=42)\n",
    "    \n",
    "    # Entrenar modelo de regresión lineal\n",
    "    model = LinearRegression()\n",
    "    model.fit(X_train, y_train)\n",
    "    \n",
    "    # Hacer predicciones\n",
    "    predictions = model.predict(X_valid)\n",
    "    \n",
    "    # Calcular RMSE\n",
    "    rmse = mean_squared_error(y_valid, predictions, squared=False)\n",
    "    \n",
    "    return {\n",
    "        \"region\": region_name,\n",
    "        \"model\": model,\n",
    "        \"rmse\": rmse,\n",
    "        \"mean_prediction\": predictions.mean(),\n",
    "        \"predictions\": predictions,\n",
    "        \"actuals\": y_valid.values\n",
    "    }\n",
    "\n",
    "# Aplicar la función a cada región.\n",
    "results = {}\n",
    "for region, path in file_paths.items():\n",
    "    df = pd.read_csv(path)\n",
    "    results[region] = train_and_evaluate(region, df)\n",
    "\n",
    "results"
   ]
  },
  {
   "cell_type": "markdown",
   "metadata": {},
   "source": [
    "**Resultados del entrenamiento y evaluación por región:**\n",
    "\n",
    "* Región 0:\n",
    "\n",
    "RMSE: 37.76\n",
    "\n",
    "Volumen medio de reservas predicho: 92.40\n",
    "\n",
    "* Región 1:\n",
    "\n",
    "RMSE: 0.89 (el más bajo, indicando mejor precisión)\n",
    "\n",
    "Volumen medio de reservas predicho: 68.71\n",
    "\n",
    "* Región 2:\n",
    "\n",
    "RMSE: 40.15\n",
    "\n",
    "Volumen medio de reservas predicho: 94.77\n",
    "\n",
    "\n",
    "* Observación:\n",
    "La Región 1 tiene el modelo más preciso (RMSE más bajo), es decir las predicciones son más confiables (se ajusta mejor a los datos)"
   ]
  },
  {
   "cell_type": "markdown",
   "metadata": {},
   "source": [
    "# Cálculo de ganancias\n",
    "\n",
    "Dada la inversión de 100 millones por 200 pozos petrolíferos, de media un pozo petrolífero debe producir al menos un valor de 500,000 dólares en unidades para evitar pérdidas (esto es equivalente a 111.1 unidades).\n",
    "\n",
    "Un barril de materias primas genera 4.5 USD de ingresos. El ingreso de una unidad de producto es de 4500 dólares (el volumen de reservas está expresado en miles de barriles).\n",
    "\n",
    "Cada pozo debe producir al menos 111.1 unidades de reservas para generar 500,000 dólares y evitar pérdidas."
   ]
  },
  {
   "cell_type": "code",
   "execution_count": 48,
   "metadata": {
    "trusted": false
   },
   "outputs": [],
   "source": [
    "# Parámetros para el cálculo del beneficio\n",
    "cost_per_well = 500000  # Costo por pozo en dólares\n",
    "revenue_per_unit = 4500  # Ingreso por unidad de volumen de reservas en dólares\n",
    "threshold_units = 111.1  # Umbral mínimo de unidades para evitar pérdidas\n",
    "\n",
    "# Volumen medio de reservas por región (calculado previamente)\n",
    "mean_reserves_0 = results['region 0']['mean_prediction']\n",
    "mean_reserves_1 = results['region 1']['mean_prediction']\n",
    "mean_reserves_2 = results['region 2']['mean_prediction']"
   ]
  },
  {
   "cell_type": "code",
   "execution_count": 49,
   "metadata": {
    "trusted": false
   },
   "outputs": [
    {
     "name": "stdout",
     "output_type": "stream",
     "text": [
      "Comparación del umbral mínimo (111.1 unidades) con el volumen medio de reservas:\n",
      "Región 0 - Volumen medio: 92.3987999065777, Cumple con el umbral: False\n",
      "Región 1 - Volumen medio: 68.71287803913762, Cumple con el umbral: False\n",
      "Región 2 - Volumen medio: 94.77102387765939, Cumple con el umbral: False\n"
     ]
    }
   ],
   "source": [
    "# Comparar el umbral mínimo con el volumen medio de reservas\n",
    "print('Comparación del umbral mínimo (111.1 unidades) con el volumen medio de reservas:')\n",
    "print(f'Región 0 - Volumen medio: {mean_reserves_0}, Cumple con el umbral: {mean_reserves_0 >= threshold_units}')\n",
    "print(f'Región 1 - Volumen medio: {mean_reserves_1}, Cumple con el umbral: {mean_reserves_1 >= threshold_units}')\n",
    "print(f'Región 2 - Volumen medio: {mean_reserves_2}, Cumple con el umbral: {mean_reserves_2 >= threshold_units}')"
   ]
  },
  {
   "cell_type": "markdown",
   "metadata": {},
   "source": [
    "Dicho de otra manera:\n",
    "\n",
    "Región 0:\n",
    "\n",
    "Volumen medio de reservas: 92.40 unidades.\n",
    "\n",
    "No cumple con el umbral mínimo de 111.1 unidades.\n",
    "\n",
    "\n",
    "\n",
    "Región 1:\n",
    "\n",
    "Volumen medio de reservas: 68.71 unidades.\n",
    "\n",
    "No cumple con el umbral mínimo de 111.1 unidades.\n",
    "\n",
    "\n",
    "\n",
    "Región 2:\n",
    "\n",
    "Volumen medio de reservas: 94.77 unidades.\n",
    "\n",
    "No cumple con el umbral mínimo de 111.1 unidades.\n",
    "\n",
    "\n",
    "* Observación:\n",
    "Ninguna región cumple con el umbral mínimo de 111.1 unidades de volumen de reservas. "
   ]
  },
  {
   "cell_type": "markdown",
   "metadata": {},
   "source": [
    "# Seleccionar los 500 Puntos y Elegir los Mejores 200 para el cálculo del beneficio"
   ]
  },
  {
   "cell_type": "code",
   "execution_count": 50,
   "metadata": {
    "trusted": false
   },
   "outputs": [],
   "source": [
    "# Fijar la semilla para reproducibilidad\n",
    "np.random.seed(12345)\n",
    "\n",
    "def select_top_wells(predictions, actuals, n=500, top_n=200):\n",
    "    # Seleccionar 500 pozos aleatorios (con semilla fija)\n",
    "    random_indices = np.random.choice(len(predictions), size=n, replace=False)\n",
    "    random_predictions = predictions[random_indices]\n",
    "    random_actuals = actuals[random_indices]\n",
    "    \n",
    "    # Seleccionar los 200 mejores de los 500\n",
    "    top_indices = np.argsort(random_predictions)[-top_n:]\n",
    "    top_actuals = random_actuals[top_indices]\n",
    "    return top_actuals\n",
    "\n",
    "# Seleccionar los 200 mejores pozos de 500 para cada región\n",
    "top_wells_0 = select_top_wells(results['region 0']['predictions'], results['region 0']['actuals'])\n",
    "top_wells_1 = select_top_wells(results['region 1']['predictions'], results['region 1']['actuals'])\n",
    "top_wells_2 = select_top_wells(results['region 2']['predictions'], results['region 2']['actuals'])"
   ]
  },
  {
   "cell_type": "markdown",
   "metadata": {},
   "source": [
    "Establecí una semilla, para eliminar la variabilidad de los resultados y puedan ser reproducibles.\n",
    "\n",
    "# Calcular el Beneficio Potencial"
   ]
  },
  {
   "cell_type": "code",
   "execution_count": 51,
   "metadata": {
    "trusted": false
   },
   "outputs": [
    {
     "name": "stdout",
     "output_type": "stream",
     "text": [
      "Beneficio potencial para los 200 pozos seleccionados:\n",
      "Región 0: 3,748,191.66 USD\n",
      "Región 1: 5,105,278.06 USD\n",
      "Región 2: 7,590,703.77 USD\n"
     ]
    }
   ],
   "source": [
    "# Parámetros para el cálculo del beneficio\n",
    "cost_per_well = 500000  # Costo por pozo en dólares\n",
    "revenue_per_unit = 4500  # Ingreso por unidad de volumen de reservas en dólares\n",
    "\n",
    "def calculate_profit(top_wells, cost_per_well, revenue_per_unit):\n",
    "    total_volume = top_wells.sum()\n",
    "    total_cost = cost_per_well * len(top_wells)\n",
    "    total_revenue = total_volume * revenue_per_unit\n",
    "    profit = total_revenue - total_cost\n",
    "    return profit\n",
    "\n",
    "# Calcular el beneficio para cada región\n",
    "profit_0 = calculate_profit(top_wells_0, cost_per_well, revenue_per_unit)\n",
    "profit_1 = calculate_profit(top_wells_1, cost_per_well, revenue_per_unit)\n",
    "profit_2 = calculate_profit(top_wells_2, cost_per_well, revenue_per_unit)\n",
    "\n",
    "print('Beneficio potencial para los 200 pozos seleccionados:')\n",
    "print(f'Región 0: {profit_0:,.2f} USD')\n",
    "print(f'Región 1: {profit_1:,.2f} USD')\n",
    "print(f'Región 2: {profit_2:,.2f} USD')"
   ]
  },
  {
   "cell_type": "markdown",
   "metadata": {},
   "source": [
    "* Observación:\n",
    "La Región 2 tiene el beneficio potencial más alto (7,590,703.77 USD), seguida de la Región 1 y la Región 0.\n",
    "\n",
    "\n",
    "* NOTA: En los pasos anteriores la Region 1 estaría siendo la mejor region para abrir los 200 pozos, sin embargo, al realizar el análisis del beneficio potencial nos damos cuenta que ahora la Region 2 tiene mejor beneficio."
   ]
  },
  {
   "cell_type": "markdown",
   "metadata": {},
   "source": [
    "# Análisis de Riesgos con Bootstrapping.\n",
    "\n",
    "Utilizaremos bootstrapping para estimar la distribución de los beneficios y calcular el riesgo de pérdidas. \n",
    "Solo consideraremos regiones con un riesgo de pérdidas inferior al 2.5%."
   ]
  },
  {
   "cell_type": "code",
   "execution_count": 52,
   "metadata": {
    "trusted": false
   },
   "outputs": [
    {
     "name": "stdout",
     "output_type": "stream",
     "text": [
      "Análisis de beneficios y riesgos:\n",
      "Región 0 - Beneficio promedio: 3961956.3517637276, Intervalo de confianza: [-984870.52469525 9005605.3213894 ], Riesgo de pérdidas: 5.4%\n",
      "Región 1 - Beneficio promedio: 5055775.697164308, Intervalo de confianza: [2714300.92014181 7603845.35399855], Riesgo de pérdidas: 0.0%\n",
      "Región 2 - Beneficio promedio: 7657068.948077464, Intervalo de confianza: [ 2534942.19547236 12349928.8666193 ], Riesgo de pérdidas: 0.0%\n"
     ]
    }
   ],
   "source": [
    "def bootstrap_profit(top_wells, cost_per_well, revenue_per_unit, n_samples=1000):\n",
    "    profits = []\n",
    "    for i in range(n_samples):\n",
    "        # Muestrear con reemplazo\n",
    "        sample = np.random.choice(top_wells, size=len(top_wells), replace=True)\n",
    "        # Calcular el beneficio para la muestra\n",
    "        profit = calculate_profit(sample, cost_per_well, revenue_per_unit)\n",
    "        profits.append(profit)\n",
    "    return np.array(profits)\n",
    "\n",
    "# Aplicar bootstrapping a cada región\n",
    "profits_0 = bootstrap_profit(top_wells_0, cost_per_well, revenue_per_unit)\n",
    "profits_1 = bootstrap_profit(top_wells_1, cost_per_well, revenue_per_unit)\n",
    "profits_2 = bootstrap_profit(top_wells_2, cost_per_well, revenue_per_unit)\n",
    "\n",
    "# Calcular el beneficio promedio, intervalo de confianza del 95% y riesgo de pérdidas\n",
    "def analyze_profits(profits):\n",
    "    mean_profit = profits.mean()\n",
    "    confidence_interval = np.percentile(profits, [2.5, 97.5])\n",
    "    risk_of_loss = (profits < 0).mean() * 100  # Probabilidad de pérdida en porcentaje\n",
    "    return mean_profit, confidence_interval, risk_of_loss\n",
    "\n",
    "# Analizar los beneficios para cada región\n",
    "analysis_0 = analyze_profits(profits_0)\n",
    "analysis_1 = analyze_profits(profits_1)\n",
    "analysis_2 = analyze_profits(profits_2)\n",
    "\n",
    "print('Análisis de beneficios y riesgos:')\n",
    "print(f'Región 0 - Beneficio promedio: {analysis_0[0]}, Intervalo de confianza: {analysis_0[1]}, Riesgo de pérdidas: {analysis_0[2]}%')\n",
    "print(f'Región 1 - Beneficio promedio: {analysis_1[0]}, Intervalo de confianza: {analysis_1[1]}, Riesgo de pérdidas: {analysis_1[2]}%')\n",
    "print(f'Región 2 - Beneficio promedio: {analysis_2[0]}, Intervalo de confianza: {analysis_2[1]}, Riesgo de pérdidas: {analysis_2[2]}%')"
   ]
  },
  {
   "cell_type": "markdown",
   "metadata": {},
   "source": [
    "**Análisis de Riesgos**\n",
    "* Región 0:\n",
    "\n",
    "Beneficio promedio: 3,961,956.35 USD\n",
    "\n",
    "Intervalo de confianza: [-984,870.52, 9,005,605.32]\n",
    "\n",
    "Riesgo de pérdidas: 5.4%\n",
    "\n",
    "El riesgo de pérdidas es superior al 2.5%, lo que no cumple con los criterios establecidos.\n",
    "\n",
    "\n",
    "* Región 1:\n",
    "\n",
    "Beneficio promedio: 5,055,775.70 USD\n",
    "\n",
    "Intervalo de confianza: [2,714,300.92, 7,603,845.35]\n",
    "\n",
    "Riesgo de pérdidas: 0.0%\n",
    "\n",
    "El riesgo de pérdidas es 0%, lo que cumple con los criterios. Además, tiene un beneficio promedio alto.\n",
    "\n",
    "\n",
    "* Región 2:\n",
    "\n",
    "Beneficio promedio: 7,657,068.95 USD\n",
    "\n",
    "Intervalo de confianza: [2,534,942.20, 12,349,928.87]\n",
    "\n",
    "Riesgo de pérdidas: 0.0%\n",
    "\n",
    "\n",
    "\n",
    "\n",
    "* NOTA: El intervalo de confiaza en la Region 0 tiene un valor negativo, esto puede deberse a que los pozos seleccionados en la muestra tienen un volumen de reservas muy bajo y/o los costos superan los ingresos en esa muestra.\n"
   ]
  },
  {
   "cell_type": "markdown",
   "metadata": {},
   "source": [
    "# Selección de la Región\n",
    "Filtraremos las regiones que cumplen con el criterio de riesgo de pérdidas inferior al 2.5% y seleccionaremos la que tenga el beneficio promedio más alto."
   ]
  },
  {
   "cell_type": "code",
   "execution_count": 53,
   "metadata": {
    "trusted": false
   },
   "outputs": [
    {
     "name": "stdout",
     "output_type": "stream",
     "text": [
      "La mejor región es region 2 con un beneficio promedio de 7,657,068.95 USD\n"
     ]
    }
   ],
   "source": [
    "# Filtrar regiones con riesgo de pérdidas < 2.5%\n",
    "filtered_regions = []\n",
    "for region, analysis in zip(['region 0', 'region 1', 'region 2'], [analysis_0, analysis_1, analysis_2]):\n",
    "    if analysis[2] < 2.5:\n",
    "        filtered_regions.append((region, analysis[0]))\n",
    "\n",
    "# Seleccionar la región con el beneficio promedio más alto\n",
    "if filtered_regions:\n",
    "    best_region = max(filtered_regions, key=lambda x: x[1])\n",
    "    print(f'La mejor región es {best_region[0]} con un beneficio promedio de {best_region[1]:,.2f} USD')\n",
    "else:\n",
    "    print('Ninguna región cumple con el criterio de riesgo de pérdidas < 2.5%.')"
   ]
  },
  {
   "cell_type": "markdown",
   "metadata": {},
   "source": [
    "# Conclusión\n",
    "\n",
    "De acuerdo al objetivo planteado por la compañia de extracción de petróleo OilyGiant en este proyecto, el cual es encontrar los mejores lugares donde abrir 200 pozos nuevos de petróleo, el resultado concluyente es que la Region 2 es la mejor opción ya que tiene el beneficio promedio más alto (7,657,068.95 USD). Para llegar a esta conclusión evaluamos el riesgo de pérdidas = 0%, lo que cumple con el criterio de ser inferior al 2.5%. El beneficio potencial y el riesgo son más favorables en la Region 2 incluso aunque su RMSE es más alto que en la Region 1. Descartamos la Region 0 ya que no cumple con los criterios debido a su alto riesgo de pérdidas (5.4%).\n",
    "\n",
    "Por lo tanto, seleccionar la Region 2 espara el desarrollo de los 200 pozos petroleros es lo recomendable, siendo la opción más rentable y segura."
   ]
  }
 ],
 "metadata": {
  "ExecuteTimeLog": [
   {
    "duration": 160,
    "start_time": "2025-03-16T18:41:56.985Z"
   },
   {
    "duration": 14,
    "start_time": "2025-03-16T18:42:39.969Z"
   },
   {
    "duration": 2,
    "start_time": "2025-03-16T18:49:49.928Z"
   },
   {
    "duration": 864,
    "start_time": "2025-03-16T18:49:53.957Z"
   },
   {
    "duration": 3,
    "start_time": "2025-03-16T18:49:54.934Z"
   },
   {
    "duration": 13,
    "start_time": "2025-03-16T18:56:02.559Z"
   },
   {
    "duration": 3,
    "start_time": "2025-03-16T19:10:07.854Z"
   },
   {
    "duration": 2,
    "start_time": "2025-03-16T19:10:10.690Z"
   },
   {
    "duration": 2,
    "start_time": "2025-03-16T19:10:24.078Z"
   },
   {
    "duration": 357,
    "start_time": "2025-03-16T19:10:28.174Z"
   },
   {
    "duration": 2,
    "start_time": "2025-03-16T19:10:44.077Z"
   },
   {
    "duration": 3,
    "start_time": "2025-03-16T19:10:44.082Z"
   },
   {
    "duration": 228,
    "start_time": "2025-03-16T19:10:44.087Z"
   },
   {
    "duration": 15,
    "start_time": "2025-03-16T19:11:28.821Z"
   },
   {
    "duration": 2,
    "start_time": "2025-03-16T19:11:29.582Z"
   },
   {
    "duration": 229,
    "start_time": "2025-03-16T19:11:30.300Z"
   },
   {
    "duration": 3,
    "start_time": "2025-03-16T19:12:58.245Z"
   },
   {
    "duration": 2,
    "start_time": "2025-03-16T19:13:00.454Z"
   },
   {
    "duration": 237,
    "start_time": "2025-03-16T19:13:01.023Z"
   },
   {
    "duration": 4,
    "start_time": "2025-03-16T19:13:36.790Z"
   },
   {
    "duration": 2,
    "start_time": "2025-03-16T19:13:38.649Z"
   },
   {
    "duration": 232,
    "start_time": "2025-03-16T19:13:39.007Z"
   },
   {
    "duration": 470,
    "start_time": "2025-03-16T19:14:07.999Z"
   },
   {
    "duration": 3,
    "start_time": "2025-03-16T19:15:12.075Z"
   },
   {
    "duration": 4,
    "start_time": "2025-03-16T19:15:27.245Z"
   },
   {
    "duration": 8,
    "start_time": "2025-03-16T19:15:40.316Z"
   },
   {
    "duration": 7,
    "start_time": "2025-03-16T19:16:14.589Z"
   },
   {
    "duration": 3,
    "start_time": "2025-03-16T19:16:25.203Z"
   },
   {
    "duration": 5,
    "start_time": "2025-03-16T19:16:41.790Z"
   },
   {
    "duration": 5,
    "start_time": "2025-03-16T19:17:06.289Z"
   },
   {
    "duration": 59,
    "start_time": "2025-03-16T19:17:58.059Z"
   },
   {
    "duration": 4,
    "start_time": "2025-03-16T19:18:34.619Z"
   },
   {
    "duration": 6,
    "start_time": "2025-03-16T19:18:44.978Z"
   },
   {
    "duration": 3,
    "start_time": "2025-03-16T19:18:57.777Z"
   },
   {
    "duration": 4,
    "start_time": "2025-03-16T19:18:57.782Z"
   },
   {
    "duration": 253,
    "start_time": "2025-03-16T19:18:57.787Z"
   },
   {
    "duration": 532,
    "start_time": "2025-03-16T19:18:58.043Z"
   },
   {
    "duration": 4,
    "start_time": "2025-03-16T19:18:58.608Z"
   },
   {
    "duration": 4,
    "start_time": "2025-03-16T19:18:58.614Z"
   },
   {
    "duration": 7,
    "start_time": "2025-03-16T19:18:58.619Z"
   },
   {
    "duration": 5,
    "start_time": "2025-03-16T19:18:58.628Z"
   },
   {
    "duration": 123,
    "start_time": "2025-03-16T19:18:58.709Z"
   },
   {
    "duration": 4,
    "start_time": "2025-03-16T19:18:58.834Z"
   },
   {
    "duration": 3,
    "start_time": "2025-03-16T19:21:33.779Z"
   },
   {
    "duration": 3,
    "start_time": "2025-03-16T19:21:33.784Z"
   },
   {
    "duration": 234,
    "start_time": "2025-03-16T19:21:33.788Z"
   },
   {
    "duration": 509,
    "start_time": "2025-03-16T19:21:34.024Z"
   },
   {
    "duration": 4,
    "start_time": "2025-03-16T19:21:34.535Z"
   },
   {
    "duration": 4,
    "start_time": "2025-03-16T19:21:34.540Z"
   },
   {
    "duration": 66,
    "start_time": "2025-03-16T19:21:34.546Z"
   },
   {
    "duration": 6,
    "start_time": "2025-03-16T19:21:34.615Z"
   },
   {
    "duration": 133,
    "start_time": "2025-03-16T19:21:34.628Z"
   },
   {
    "duration": 4,
    "start_time": "2025-03-16T19:21:34.765Z"
   }
  ],
  "kernelspec": {
   "display_name": "Python 3 (ipykernel)",
   "language": "python",
   "name": "python3"
  },
  "language_info": {
   "codemirror_mode": {
    "name": "ipython",
    "version": 3
   },
   "file_extension": ".py",
   "mimetype": "text/x-python",
   "name": "python",
   "nbconvert_exporter": "python",
   "pygments_lexer": "ipython3",
   "version": "3.9.19"
  },
  "toc": {
   "base_numbering": 1,
   "nav_menu": {},
   "number_sections": true,
   "sideBar": true,
   "skip_h1_title": true,
   "title_cell": "Table of Contents",
   "title_sidebar": "Contents",
   "toc_cell": false,
   "toc_position": {},
   "toc_section_display": true,
   "toc_window_display": false
  }
 },
 "nbformat": 4,
 "nbformat_minor": 2
}
